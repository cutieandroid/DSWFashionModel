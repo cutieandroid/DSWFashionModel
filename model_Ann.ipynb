{
  "cells": [
    {
      "cell_type": "code",
      "execution_count": 19,
      "metadata": {
        "id": "8UVKPPBguyMa"
      },
      "outputs": [],
      "source": [
        "import pandas as pd\n",
        "from sklearn.model_selection import train_test_split\n",
        "from sklearn.preprocessing import StandardScaler, LabelEncoder\n",
        "from keras.models import Sequential\n",
        "from keras.layers import Dense"
      ]
    },
    {
      "cell_type": "code",
      "execution_count": 20,
      "metadata": {
        "id": "e16IFuzdu2gl"
      },
      "outputs": [],
      "source": [
        "class NeuralNetworkModel:\n",
        "    def __init__(self):\n",
        "        self.model = None\n",
        "\n",
        "    def load_data(self, file_path):\n",
        "        self.historic_data = pd.read_csv(file_path)\n",
        "\n",
        "    def preprocess_data(self):\n",
        "        self.historic_data.drop(['item_no'], axis=1, inplace=True)\n",
        "        self.historic_data['stars'] = self.historic_data['stars'].apply(lambda x: min(x, 5))\n",
        "        self.historic_data = pd.get_dummies(self.historic_data, columns=['category', 'main_promotion', 'color'])\n",
        "        \n",
        "        label_encoder = LabelEncoder()\n",
        "        self.historic_data['success_indicator'] = label_encoder.fit_transform(self.historic_data['success_indicator'])\n",
        "\n",
        "        X = self.historic_data.drop('success_indicator', axis=1)\n",
        "        y = self.historic_data['success_indicator']\n",
        "\n",
        "        self.X_train, self.X_test, self.y_train, self.y_test = train_test_split(X, y, test_size=0.2, random_state=42)\n",
        "\n",
        "        scaler = StandardScaler()\n",
        "        self.X_train_scaled = scaler.fit_transform(self.X_train)\n",
        "        self.X_test_scaled = scaler.transform(self.X_test)\n",
        "\n",
        "    def build_model(self):\n",
        "        self.model = Sequential()\n",
        "        self.model.add(Dense(64, activation='relu', input_shape=(self.X_train_scaled.shape[1],)))\n",
        "        self.model.add(Dense(32, activation='relu'))\n",
        "        self.model.add(Dense(1, activation='sigmoid'))\n",
        "        self.model.compile(optimizer='adam', loss='binary_crossentropy', metrics=['accuracy'])\n",
        "\n",
        "    def train_model(self, epochs=50, batch_size=32):\n",
        "        self.model.fit(self.X_train_scaled, self.y_train, epochs=epochs, batch_size=batch_size, verbose=1)\n",
        "\n",
        "    def evaluate_model(self):\n",
        "        loss, accuracy = self.model.evaluate(self.X_test_scaled, self.y_test)\n",
        "        print(f'Test Loss: {loss:.4f}')\n",
        "        print(f'Test Accuracy: {accuracy:.4f}')"
      ]
    },
    {
      "cell_type": "code",
      "execution_count": 21,
      "metadata": {
        "id": "NarXsWSZu558"
      },
      "outputs": [
        {
          "name": "stdout",
          "output_type": "stream",
          "text": [
            "Epoch 1/50\n",
            "200/200 [==============================] - 1s 3ms/step - loss: 0.4983 - accuracy: 0.7870\n",
            "Epoch 2/50\n",
            "200/200 [==============================] - 1s 3ms/step - loss: 0.4202 - accuracy: 0.8495\n",
            "Epoch 3/50\n",
            "200/200 [==============================] - 1s 3ms/step - loss: 0.4073 - accuracy: 0.8525\n",
            "Epoch 4/50\n",
            "200/200 [==============================] - 1s 3ms/step - loss: 0.3997 - accuracy: 0.8547\n",
            "Epoch 5/50\n",
            "200/200 [==============================] - 1s 4ms/step - loss: 0.3978 - accuracy: 0.8572\n",
            "Epoch 6/50\n",
            "200/200 [==============================] - 1s 3ms/step - loss: 0.3942 - accuracy: 0.8577\n",
            "Epoch 7/50\n",
            "200/200 [==============================] - 1s 3ms/step - loss: 0.3911 - accuracy: 0.8567\n",
            "Epoch 8/50\n",
            "200/200 [==============================] - 1s 3ms/step - loss: 0.3884 - accuracy: 0.8584\n",
            "Epoch 9/50\n",
            "200/200 [==============================] - 1s 3ms/step - loss: 0.3880 - accuracy: 0.8592\n",
            "Epoch 10/50\n",
            "200/200 [==============================] - 1s 3ms/step - loss: 0.3857 - accuracy: 0.8614\n",
            "Epoch 11/50\n",
            "200/200 [==============================] - 1s 3ms/step - loss: 0.3844 - accuracy: 0.8587\n",
            "Epoch 12/50\n",
            "200/200 [==============================] - 1s 3ms/step - loss: 0.3829 - accuracy: 0.8589\n",
            "Epoch 13/50\n",
            "200/200 [==============================] - 1s 3ms/step - loss: 0.3826 - accuracy: 0.8594\n",
            "Epoch 14/50\n",
            "200/200 [==============================] - 1s 3ms/step - loss: 0.3825 - accuracy: 0.8609\n",
            "Epoch 15/50\n",
            "200/200 [==============================] - 1s 3ms/step - loss: 0.3806 - accuracy: 0.8616\n",
            "Epoch 16/50\n",
            "200/200 [==============================] - 1s 3ms/step - loss: 0.3787 - accuracy: 0.8600\n",
            "Epoch 17/50\n",
            "200/200 [==============================] - 1s 3ms/step - loss: 0.3778 - accuracy: 0.8634\n",
            "Epoch 18/50\n",
            "200/200 [==============================] - 1s 3ms/step - loss: 0.3778 - accuracy: 0.8605\n",
            "Epoch 19/50\n",
            "200/200 [==============================] - 1s 3ms/step - loss: 0.3769 - accuracy: 0.8619\n",
            "Epoch 20/50\n",
            "200/200 [==============================] - 1s 3ms/step - loss: 0.3780 - accuracy: 0.8622\n",
            "Epoch 21/50\n",
            "200/200 [==============================] - 1s 3ms/step - loss: 0.3755 - accuracy: 0.8612\n",
            "Epoch 22/50\n",
            "200/200 [==============================] - 1s 3ms/step - loss: 0.3751 - accuracy: 0.8622\n",
            "Epoch 23/50\n",
            "200/200 [==============================] - 1s 3ms/step - loss: 0.3740 - accuracy: 0.8619\n",
            "Epoch 24/50\n",
            "200/200 [==============================] - 1s 3ms/step - loss: 0.3746 - accuracy: 0.8622\n",
            "Epoch 25/50\n",
            "200/200 [==============================] - 1s 3ms/step - loss: 0.3732 - accuracy: 0.8623\n",
            "Epoch 26/50\n",
            "200/200 [==============================] - 1s 3ms/step - loss: 0.3728 - accuracy: 0.8628\n",
            "Epoch 27/50\n",
            "200/200 [==============================] - 1s 3ms/step - loss: 0.3727 - accuracy: 0.8625\n",
            "Epoch 28/50\n",
            "200/200 [==============================] - 1s 3ms/step - loss: 0.3721 - accuracy: 0.8620\n",
            "Epoch 29/50\n",
            "200/200 [==============================] - 1s 3ms/step - loss: 0.3708 - accuracy: 0.8633\n",
            "Epoch 30/50\n",
            "200/200 [==============================] - 1s 3ms/step - loss: 0.3700 - accuracy: 0.8627\n",
            "Epoch 31/50\n",
            "200/200 [==============================] - 1s 3ms/step - loss: 0.3705 - accuracy: 0.8630\n",
            "Epoch 32/50\n",
            "200/200 [==============================] - 1s 3ms/step - loss: 0.3700 - accuracy: 0.8617\n",
            "Epoch 33/50\n",
            "200/200 [==============================] - 1s 3ms/step - loss: 0.3690 - accuracy: 0.8644\n",
            "Epoch 34/50\n",
            "200/200 [==============================] - 1s 3ms/step - loss: 0.3689 - accuracy: 0.8628\n",
            "Epoch 35/50\n",
            "200/200 [==============================] - 1s 3ms/step - loss: 0.3679 - accuracy: 0.8630\n",
            "Epoch 36/50\n",
            "200/200 [==============================] - 1s 3ms/step - loss: 0.3681 - accuracy: 0.8608\n",
            "Epoch 37/50\n",
            "200/200 [==============================] - 1s 3ms/step - loss: 0.3679 - accuracy: 0.8637\n",
            "Epoch 38/50\n",
            "200/200 [==============================] - 1s 3ms/step - loss: 0.3673 - accuracy: 0.8623\n",
            "Epoch 39/50\n",
            "200/200 [==============================] - 1s 3ms/step - loss: 0.3669 - accuracy: 0.8622\n",
            "Epoch 40/50\n",
            "200/200 [==============================] - 1s 3ms/step - loss: 0.3659 - accuracy: 0.8631\n",
            "Epoch 41/50\n",
            "200/200 [==============================] - 1s 3ms/step - loss: 0.3660 - accuracy: 0.8644\n",
            "Epoch 42/50\n",
            "200/200 [==============================] - 1s 3ms/step - loss: 0.3653 - accuracy: 0.8637\n",
            "Epoch 43/50\n",
            "200/200 [==============================] - 1s 3ms/step - loss: 0.3650 - accuracy: 0.8633\n",
            "Epoch 44/50\n",
            "200/200 [==============================] - 1s 3ms/step - loss: 0.3647 - accuracy: 0.8637\n",
            "Epoch 45/50\n",
            "200/200 [==============================] - 1s 3ms/step - loss: 0.3645 - accuracy: 0.8637\n",
            "Epoch 46/50\n",
            "200/200 [==============================] - 1s 3ms/step - loss: 0.3650 - accuracy: 0.8623\n",
            "Epoch 47/50\n",
            "200/200 [==============================] - 1s 3ms/step - loss: 0.3653 - accuracy: 0.8623\n",
            "Epoch 48/50\n",
            "200/200 [==============================] - 1s 3ms/step - loss: 0.3638 - accuracy: 0.8641\n",
            "Epoch 49/50\n",
            "200/200 [==============================] - 1s 3ms/step - loss: 0.3620 - accuracy: 0.8641\n",
            "Epoch 50/50\n",
            "200/200 [==============================] - 1s 3ms/step - loss: 0.3646 - accuracy: 0.8633\n",
            "50/50 [==============================] - 0s 3ms/step - loss: 0.4246 - accuracy: 0.8494\n",
            "Test Loss: 0.4246\n",
            "Test Accuracy: 0.8494\n"
          ]
        }
      ],
      "source": [
        "model = NeuralNetworkModel()\n",
        "model.load_data('historic.csv')\n",
        "model.preprocess_data()\n",
        "model.build_model()\n",
        "model.train_model()\n",
        "model.evaluate_model()"
      ]
    },
    {
      "cell_type": "markdown",
      "metadata": {
        "id": "299KOaXAbHOs"
      },
      "source": [
        "For logistic regression we got accuracy as 81 percent for svm we got accuracy as 84 percent for random forest we got accuracy as 82 percent and for gradient boosting model we got accuray as 83.5 percent and for  a Artificial neural netwrk model we got accuracy between 85 and 87 percent"
      ]
    }
  ],
  "metadata": {
    "colab": {
      "provenance": []
    },
    "kernelspec": {
      "display_name": "Python 3",
      "name": "python3"
    },
    "language_info": {
      "codemirror_mode": {
        "name": "ipython",
        "version": 3
      },
      "file_extension": ".py",
      "mimetype": "text/x-python",
      "name": "python",
      "nbconvert_exporter": "python",
      "pygments_lexer": "ipython3",
      "version": "3.10.5"
    }
  },
  "nbformat": 4,
  "nbformat_minor": 0
}

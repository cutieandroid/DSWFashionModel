{
  "cells": [
    {
      "cell_type": "code",
      "execution_count": 1,
      "metadata": {
        "id": "c72r0_MJrnR0"
      },
      "outputs": [],
      "source": [
        "from sklearn.linear_model import LogisticRegression\n",
        "from sklearn.metrics import accuracy_score, classification_report\n",
        "from sklearn.model_selection import train_test_split\n",
        "import pandas as pd"
      ]
    },
    {
      "cell_type": "code",
      "execution_count": 2,
      "metadata": {
        "id": "Vi_9uapnrnfq"
      },
      "outputs": [],
      "source": [
        "class LogisticRegressionModel:\n",
        "    def __init__(self, random_state=42):\n",
        "        self.random_state = random_state\n",
        "        self.model = None\n",
        "\n",
        "    def load(self, file_path):\n",
        "        self.historic_data = pd.read_csv(file_path)\n",
        "\n",
        "    def preprocess(self):\n",
        "        self.historic_data.drop(['item_no'], axis=1, inplace=True)\n",
        "        self.historic_data = pd.get_dummies(self.historic_data, columns=['category', 'main_promotion', 'color'])\n",
        "\n",
        "        self.X = self.historic_data.drop('success_indicator', axis=1)\n",
        "        self.y = self.historic_data['success_indicator']\n",
        "\n",
        "    def train(self):\n",
        "        self.X_train, self.X_test, self.y_train, self.y_test = train_test_split(self.X, self.y, test_size=0.2, random_state=self.random_state)\n",
        "        self.model = LogisticRegression(random_state=self.random_state)\n",
        "        self.model.fit(self.X_train, self.y_train)\n",
        "\n",
        "    def test(self):\n",
        "        self.y_pred = self.model.predict(self.X_test)\n",
        "        self.accuracy = accuracy_score(self.y_test, self.y_pred)\n",
        "        self.classification_rep = classification_report(self.y_test, self.y_pred)\n",
        "\n",
        "    def predict(self, data):\n",
        "        return self.model.predict(data)\n",
        "\n",
        "    def evaluate(self):\n",
        "        print(\"Logistic Regression Accuracy:\", self.accuracy)\n",
        "        print(\"\\nClassification Report:\")\n",
        "        print(self.classification_rep)"
      ]
    },
    {
      "cell_type": "code",
      "execution_count": 3,
      "metadata": {
        "id": "npYfpT6LrnnT"
      },
      "outputs": [
        {
          "name": "stdout",
          "output_type": "stream",
          "text": [
            "Logistic Regression Accuracy: 0.818125\n",
            "\n",
            "Classification Report:\n",
            "              precision    recall  f1-score   support\n",
            "\n",
            "        flop       0.80      0.66      0.72       571\n",
            "         top       0.83      0.91      0.87      1029\n",
            "\n",
            "    accuracy                           0.82      1600\n",
            "   macro avg       0.81      0.78      0.79      1600\n",
            "weighted avg       0.82      0.82      0.81      1600\n",
            "\n"
          ]
        }
      ],
      "source": [
        "logistic_model = LogisticRegressionModel()\n",
        "logistic_model.load('historic.csv')\n",
        "logistic_model.preprocess()\n",
        "logistic_model.train()\n",
        "logistic_model.test()\n",
        "logistic_model.evaluate()"
      ]
    },
    {
      "cell_type": "markdown",
      "metadata": {
        "id": "GLQlL0BwZBIf"
      },
      "source": [
        "For logistic regression we got accuracy as 81 percent for svm we got accuracy as 84 percent for random forest we got accuracy as 82 percent and for gradient boosting model we got accuray as 83.5 percent and for  a Artificial neural netwrk model we got accuracy between 85 and 87 percent"
      ]
    }
  ],
  "metadata": {
    "colab": {
      "provenance": []
    },
    "kernelspec": {
      "display_name": "Python 3",
      "name": "python3"
    },
    "language_info": {
      "codemirror_mode": {
        "name": "ipython",
        "version": 3
      },
      "file_extension": ".py",
      "mimetype": "text/x-python",
      "name": "python",
      "nbconvert_exporter": "python",
      "pygments_lexer": "ipython3",
      "version": "3.10.5"
    }
  },
  "nbformat": 4,
  "nbformat_minor": 0
}

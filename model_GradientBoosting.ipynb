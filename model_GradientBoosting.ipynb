{
  "cells": [
    {
      "cell_type": "code",
      "execution_count": 9,
      "metadata": {
        "id": "8z2fDY1stfQc"
      },
      "outputs": [],
      "source": [
        "\n",
        "import pandas as pd\n",
        "from sklearn.ensemble import GradientBoostingClassifier\n",
        "from sklearn.metrics import accuracy_score, classification_report\n",
        "from sklearn.model_selection import train_test_split\n"
      ]
    },
    {
      "cell_type": "code",
      "execution_count": 10,
      "metadata": {
        "id": "M-PLJnmBtkQ5"
      },
      "outputs": [],
      "source": [
        "\n",
        "class GradientBoostingModel:\n",
        "    def __init__(self, data_file):\n",
        "        self.data_file = data_file\n",
        "        self.model = None\n",
        "\n",
        "    def load(self):\n",
        "        # Load the historic data\n",
        "        historic_data = pd.read_csv(self.data_file)\n",
        "\n",
        "        # Drop unnecessary columns or columns that can't be used for prediction\n",
        "        historic_data.drop(['item_no'], axis=1, inplace=True)\n",
        "\n",
        "        # Convert categorical variables into dummy variables\n",
        "        historic_data = pd.get_dummies(historic_data, columns=['category', 'main_promotion', 'color'])\n",
        "\n",
        "        # Split data into features and target variable\n",
        "        X = historic_data.drop('success_indicator', axis=1)\n",
        "        y = historic_data['success_indicator']\n",
        "\n",
        "        # Split data into train and test sets\n",
        "        self.X_train, self.X_test, self.y_train, self.y_test = train_test_split(X, y, test_size=0.2, random_state=42)\n",
        "\n",
        "    def preprocess(self):\n",
        "        pass  # No preprocessing steps for this model\n",
        "    \n",
        "    def train(self):\n",
        "        # Initialize and train the Gradient Boosting Classifier model\n",
        "        self.model = GradientBoostingClassifier(random_state=42)\n",
        "        self.model.fit(self.X_train, self.y_train)\n",
        "    \n",
        "    def test(self):\n",
        "        # Predict on the test set\n",
        "        y_pred = self.model.predict(self.X_test)\n",
        "\n",
        "        # Evaluate the model\n",
        "        self.accuracy = accuracy_score(self.y_test, y_pred)\n",
        "        self.classification_rep = classification_report(self.y_test, y_pred)\n",
        "\n",
        "    def predict(self, data):\n",
        "        # Predict on new data\n",
        "        return self.model.predict(data)\n"
      ]
    },
    {
      "cell_type": "code",
      "execution_count": 11,
      "metadata": {
        "colab": {
          "base_uri": "https://localhost:8080/"
        },
        "id": "dqYjsmQIwxRK",
        "outputId": "fa4214ae-87fe-4ce0-f450-5b5f4c965cfe"
      },
      "outputs": [
        {
          "name": "stdout",
          "output_type": "stream",
          "text": [
            "Gradient Boosting Classifier Accuracy: 0.835\n",
            "\n",
            "Classification Report:\n",
            "              precision    recall  f1-score   support\n",
            "\n",
            "        flop       0.83      0.68      0.75       571\n",
            "         top       0.84      0.92      0.88      1029\n",
            "\n",
            "    accuracy                           0.83      1600\n",
            "   macro avg       0.83      0.80      0.81      1600\n",
            "weighted avg       0.83      0.83      0.83      1600\n",
            "\n"
          ]
        }
      ],
      "source": [
        "# Cell 3: Instantiate the model, load data, train, test, and evaluate\n",
        "if __name__ == \"__main__\":\n",
        "    # Initialize the model\n",
        "    model = GradientBoostingModel(data_file='historic.csv')\n",
        "\n",
        "    # Load data\n",
        "    model.load()\n",
        "\n",
        "    # Preprocess data\n",
        "    model.preprocess()\n",
        "\n",
        "    # Train the model\n",
        "    model.train()\n",
        "\n",
        "    # Test the model\n",
        "    model.test()\n",
        "\n",
        "    print(\"Gradient Boosting Classifier Accuracy:\", model.accuracy)\n",
        "    print(\"\\nClassification Report:\")\n",
        "    print(model.classification_rep)\n"
      ]
    },
    {
      "cell_type": "markdown",
      "metadata": {
        "id": "j2LB9XJtbMuQ"
      },
      "source": [
        "For logistic regression we got accuracy as 81 percent for svm we got accuracy as 84 percent for random forest we got accuracy as 82 percent and for gradient boosting model we got accuray as 83.5 percent and for  a Artificial neural netwrk model we got accuracy between 85 and 87 percent"
      ]
    }
  ],
  "metadata": {
    "colab": {
      "provenance": []
    },
    "kernelspec": {
      "display_name": "Python 3",
      "name": "python3"
    },
    "language_info": {
      "codemirror_mode": {
        "name": "ipython",
        "version": 3
      },
      "file_extension": ".py",
      "mimetype": "text/x-python",
      "name": "python",
      "nbconvert_exporter": "python",
      "pygments_lexer": "ipython3",
      "version": "3.10.5"
    }
  },
  "nbformat": 4,
  "nbformat_minor": 0
}

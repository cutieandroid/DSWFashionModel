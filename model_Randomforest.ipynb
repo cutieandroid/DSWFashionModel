{
  "cells": [
    {
      "cell_type": "code",
      "execution_count": 1,
      "metadata": {
        "colab": {
          "base_uri": "https://localhost:8080/"
        },
        "id": "mnpo2yjFpZdb",
        "outputId": "f00b3bc6-c9f3-4a1a-ed2e-3c90d17bcc0a"
      },
      "outputs": [],
      "source": [
        "import pandas as pd\n",
        "from sklearn.model_selection import train_test_split\n",
        "from sklearn.ensemble import RandomForestClassifier\n",
        "from sklearn.metrics import classification_report, accuracy_score"
      ]
    },
    {
      "cell_type": "code",
      "execution_count": 2,
      "metadata": {
        "id": "OBc24qFxpbTv"
      },
      "outputs": [],
      "source": [
        "class RandomForestModel:\n",
        "    def __init__(self, random_state=42):\n",
        "        self.random_state = random_state\n",
        "        self.model = None\n",
        "        self.X_train = None\n",
        "        self.X_test = None\n",
        "        self.y_train = None\n",
        "        self.y_test = None\n",
        "        self.y_pred = None\n",
        "\n",
        "    def load(self, file_path):\n",
        "        self.historic_data = pd.read_csv(file_path)\n",
        "\n",
        "    def preprocess(self):\n",
        "        self.historic_data.drop(['item_no'], axis=1, inplace=True)\n",
        "        self.historic_data = pd.get_dummies(self.historic_data, columns=['category', 'main_promotion', 'color'])\n",
        "        self.X = self.historic_data.drop('success_indicator', axis=1)\n",
        "        self.y = self.historic_data['success_indicator']\n",
        "\n",
        "    def train(self):\n",
        "        self.X_train, self.X_test, self.y_train, self.y_test = train_test_split(self.X, self.y, test_size=0.2, random_state=self.random_state)\n",
        "        self.model = RandomForestClassifier(random_state=self.random_state)\n",
        "        self.model.fit(self.X_train, self.y_train)\n",
        "\n",
        "    def test(self):\n",
        "        self.y_pred = self.model.predict(self.X_test)\n",
        "        self.accuracy = accuracy_score(self.y_test, self.y_pred)\n",
        "        self.classification_rep = classification_report(self.y_test, self.y_pred)\n",
        "\n",
        "    def predict(self, data):\n",
        "        return self.model.predict(data)\n",
        "\n",
        "    def evaluate(self):\n",
        "        print(\"Accuracy:\", self.accuracy)\n",
        "        print(\"\\nClassification Report:\")\n",
        "        print(self.classification_rep)\n"
      ]
    },
    {
      "cell_type": "code",
      "execution_count": 3,
      "metadata": {
        "id": "TLcT4MMopeRT"
      },
      "outputs": [
        {
          "name": "stdout",
          "output_type": "stream",
          "text": [
            "Accuracy: 0.82\n",
            "\n",
            "Classification Report:\n",
            "              precision    recall  f1-score   support\n",
            "\n",
            "        flop       0.78      0.69      0.73       571\n",
            "         top       0.84      0.89      0.86      1029\n",
            "\n",
            "    accuracy                           0.82      1600\n",
            "   macro avg       0.81      0.79      0.80      1600\n",
            "weighted avg       0.82      0.82      0.82      1600\n",
            "\n"
          ]
        }
      ],
      "source": [
        "model = RandomForestModel()\n",
        "model.load('historic.csv')\n",
        "model.preprocess()\n",
        "model.train()\n",
        "model.test()\n",
        "model.evaluate()"
      ]
    },
    {
      "cell_type": "markdown",
      "metadata": {
        "id": "W1lhpgULbBb8"
      },
      "source": [
        "For logistic regression we got accuracy as 81 percent for svm we got accuracy as 84 percent for random forest we got accuracy as 82 percent and for gradient boosting model we got accuray as 83.5 percent and for  a Artificial neural netwrk model we got accuracy between 85 and 87 percent"
      ]
    }
  ],
  "metadata": {
    "colab": {
      "provenance": []
    },
    "kernelspec": {
      "display_name": "Python 3",
      "name": "python3"
    },
    "language_info": {
      "codemirror_mode": {
        "name": "ipython",
        "version": 3
      },
      "file_extension": ".py",
      "mimetype": "text/x-python",
      "name": "python",
      "nbconvert_exporter": "python",
      "pygments_lexer": "ipython3",
      "version": "3.10.5"
    }
  },
  "nbformat": 4,
  "nbformat_minor": 0
}
